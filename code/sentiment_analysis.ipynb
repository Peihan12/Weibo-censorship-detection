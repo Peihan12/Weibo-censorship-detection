{
 "cells": [
  {
   "cell_type": "markdown",
   "metadata": {},
   "source": [
    "# Data Cleaning\n",
    "In this notebook, I lay out the steps I took to properly read the full Leiden Weibo Corpus CSV file as a pandas dataframe and clean aspects of the data which include: selecting certain columns, removing extraneous characters, removing rows that were incorrectly parsed by `pandas.read_csv`, changing data types of the corpus, and writing subsets of the data to various CSV files for future analysis."
   ]
  },
  {
   "cell_type": "code",
   "execution_count": 12,
   "metadata": {
    "collapsed": true
   },
   "outputs": [
    {
     "name": "stdout",
     "output_type": "stream",
     "text": [
      "Collecting snownlp\n",
      "  Downloading snownlp-0.12.3.tar.gz (37.6 MB)\n",
      "\u001b[K     |████████████████████████████████| 37.6 MB 6.7 MB/s eta 0:00:01    |██                              | 2.4 MB 6.5 MB/s eta 0:00:06     |███████████████████████████▋    | 32.5 MB 7.3 MB/s eta 0:00:01\n",
      "\u001b[?25hBuilding wheels for collected packages: snownlp\n",
      "  Building wheel for snownlp (setup.py) ... \u001b[?25ldone\n",
      "\u001b[?25h  Created wheel for snownlp: filename=snownlp-0.12.3-py3-none-any.whl size=37760945 sha256=4ab7b563e47e02dc88382480424c10e8de30a939c4192a57ae74dfd23c774908\n",
      "  Stored in directory: /Users/hanyulun/Library/Caches/pip/wheels/09/14/c5/ea9aee34229caa97c6f6ff78c82c7f2b1a3423c1f37227b6a6\n",
      "Successfully built snownlp\n",
      "Installing collected packages: snownlp\n",
      "Successfully installed snownlp-0.12.3\n",
      "Note: you may need to restart the kernel to use updated packages.\n"
     ]
    }
   ],
   "source": [
    "# pip install snownlp"
   ]
  },
  {
   "cell_type": "code",
   "execution_count": 1,
   "metadata": {},
   "outputs": [],
   "source": [
    "# import required libraries\n",
    "import pandas as pd\n",
    "import matplotlib.pyplot as plt\n",
    "import seaborn as sns\n",
    "import numpy as np\n",
    "# import sys  \n",
    "# sys.path.append('..')\n",
    "sns.set(style=\"darkgrid\")"
   ]
  },
  {
   "cell_type": "code",
   "execution_count": 12,
   "metadata": {},
   "outputs": [],
   "source": [
    "# assign columns\n",
    "col_names = [\"col\" + str(i) for i in range(1,10)]\n",
    "# load full data set and convert csv \\N to NaN in pandas dataframe\n",
    "AllData1 = pd.read_csv('before.csv')\n",
    "AllData2 = pd.read_csv('during.csv')\n",
    "AllData3 = pd.read_csv('after.csv')"
   ]
  },
  {
   "cell_type": "code",
   "execution_count": 13,
   "metadata": {},
   "outputs": [],
   "source": [
    "AllData1.微博正文 = AllData1.微博正文.str.replace(\"\\\"\", \"\")\n",
    "AllData2.微博正文 = AllData2.微博正文.str.replace(\"\\\"\", \"\")\n",
    "AllData3.微博正文 = AllData3.微博正文.str.replace(\"\\\"\", \"\")"
   ]
  },
  {
   "cell_type": "code",
   "execution_count": 14,
   "metadata": {},
   "outputs": [],
   "source": [
    "# change data type of Message from str to unicode string to preserve special characters (Chinese characters)\n",
    "AllData1.微博正文 = AllData1.微博正文.astype('unicode')\n",
    "AllData2.微博正文 = AllData2.微博正文.astype('unicode')\n",
    "AllData3.微博正文 = AllData3.微博正文.astype('unicode')"
   ]
  },
  {
   "cell_type": "markdown",
   "metadata": {},
   "source": [
    "### Adding Sentiment\n",
    "I use the `SnowNLP` Python library's `str.sentiments` function to add numerical sentiment calculations (0 to 1) for each message in each data set."
   ]
  },
  {
   "cell_type": "code",
   "execution_count": 15,
   "metadata": {},
   "outputs": [
    {
     "name": "stderr",
     "output_type": "stream",
     "text": [
      "/var/folders/dk/23p78mwd3ljfmw62z17s_2rr0000gn/T/ipykernel_48645/2032188104.py:8: SettingWithCopyWarning: \n",
      "A value is trying to be set on a copy of a slice from a DataFrame\n",
      "\n",
      "See the caveats in the documentation: https://pandas.pydata.org/pandas-docs/stable/user_guide/indexing.html#returning-a-view-versus-a-copy\n",
      "  dataset['Sentiment'][row] = SnowNLP(dataset['微博正文'][row]).sentiments\n",
      "/var/folders/dk/23p78mwd3ljfmw62z17s_2rr0000gn/T/ipykernel_48645/2032188104.py:8: SettingWithCopyWarning: \n",
      "A value is trying to be set on a copy of a slice from a DataFrame\n",
      "\n",
      "See the caveats in the documentation: https://pandas.pydata.org/pandas-docs/stable/user_guide/indexing.html#returning-a-view-versus-a-copy\n",
      "  dataset['Sentiment'][row] = SnowNLP(dataset['微博正文'][row]).sentiments\n",
      "/var/folders/dk/23p78mwd3ljfmw62z17s_2rr0000gn/T/ipykernel_48645/2032188104.py:8: SettingWithCopyWarning: \n",
      "A value is trying to be set on a copy of a slice from a DataFrame\n",
      "\n",
      "See the caveats in the documentation: https://pandas.pydata.org/pandas-docs/stable/user_guide/indexing.html#returning-a-view-versus-a-copy\n",
      "  dataset['Sentiment'][row] = SnowNLP(dataset['微博正文'][row]).sentiments\n"
     ]
    }
   ],
   "source": [
    "# import necessary library\n",
    "from snownlp import SnowNLP\n",
    "for data in [AllData1,AllData2,AllData3]:\n",
    "    dataset = data\n",
    "\n",
    "    dataset['Sentiment'] = SnowNLP(dataset['微博正文'])\n",
    "    for row in range(len(dataset)):\n",
    "        dataset['Sentiment'][row] = SnowNLP(dataset['微博正文'][row]).sentiments"
   ]
  },
  {
   "cell_type": "code",
   "execution_count": 16,
   "metadata": {},
   "outputs": [
    {
     "data": {
      "text/plain": [
       "0.5627888854692117"
      ]
     },
     "execution_count": 16,
     "metadata": {},
     "output_type": "execute_result"
    }
   ],
   "source": [
    "#Before conference\n",
    "AllData1['Sentiment'].mean()"
   ]
  },
  {
   "cell_type": "code",
   "execution_count": 17,
   "metadata": {},
   "outputs": [
    {
     "data": {
      "text/plain": [
       "0.6071376592389067"
      ]
     },
     "execution_count": 17,
     "metadata": {},
     "output_type": "execute_result"
    }
   ],
   "source": [
    "#During conference\n",
    "AllData2['Sentiment'].mean()"
   ]
  },
  {
   "cell_type": "code",
   "execution_count": 18,
   "metadata": {},
   "outputs": [
    {
     "data": {
      "text/plain": [
       "0.5829880836702218"
      ]
     },
     "execution_count": 18,
     "metadata": {},
     "output_type": "execute_result"
    }
   ],
   "source": [
    "#After conference\n",
    "AllData3['Sentiment'].mean()"
   ]
  },
  {
   "cell_type": "code",
   "execution_count": 19,
   "metadata": {},
   "outputs": [],
   "source": [
    "AllData1['发布时间'] = pd.to_datetime(AllData1['发布时间'], infer_datetime_format=True)\n",
    "AllData2['发布时间'] = pd.to_datetime(AllData2['发布时间'], infer_datetime_format=True)\n",
    "AllData3['发布时间'] = pd.to_datetime(AllData3['发布时间'], infer_datetime_format=True)"
   ]
  },
  {
   "cell_type": "code",
   "execution_count": 20,
   "metadata": {},
   "outputs": [],
   "source": [
    "AllData1['date'] = AllData1['发布时间'].dt.date\n",
    "AllData2['date'] = AllData2['发布时间'].dt.date\n",
    "AllData3['date'] = AllData3['发布时间'].dt.date"
   ]
  },
  {
   "cell_type": "code",
   "execution_count": 21,
   "metadata": {},
   "outputs": [],
   "source": [
    "AllData1['date']= pd.to_datetime(AllData1.date, infer_datetime_format=True)\n",
    "AllData2['date'] = pd.to_datetime(AllData2.date, infer_datetime_format=True)\n",
    "AllData3['date'] = pd.to_datetime(AllData3.date, infer_datetime_format=True)"
   ]
  },
  {
   "cell_type": "code",
   "execution_count": 22,
   "metadata": {},
   "outputs": [],
   "source": [
    "AllData1['heat'] =AllData1['评论数'] + AllData1['转发数']+AllData1['点赞数']\n",
    "AllData2['heat'] =AllData2['评论数'] + AllData2['转发数']+AllData2['点赞数']\n",
    "AllData3['heat'] =AllData3['评论数'] + AllData3['转发数']+AllData3['点赞数']"
   ]
  },
  {
   "cell_type": "code",
   "execution_count": 13,
   "metadata": {},
   "outputs": [],
   "source": [
    "# pip install --upgrade numpy"
   ]
  },
  {
   "cell_type": "code",
   "execution_count": 24,
   "metadata": {},
   "outputs": [],
   "source": [
    "senti_day1 = AllData1.groupby(AllData1.date).apply(lambda x: np.average(x.Sentiment, weights=x.heat))\n",
    "senti_day2 = AllData2.groupby(AllData2.date).apply(lambda x: np.average(x.Sentiment, weights=x.heat))\n",
    "senti_day3 = AllData3.groupby(AllData3.date).apply(lambda x: np.average(x.Sentiment, weights=x.heat))"
   ]
  },
  {
   "cell_type": "code",
   "execution_count": 28,
   "metadata": {},
   "outputs": [
    {
     "name": "stdout",
     "output_type": "stream",
     "text": [
      "Before conference:  0.6675942670442935\n",
      "During conference:  0.7584273600089468\n",
      "After conference:  0.5946115680424586\n"
     ]
    }
   ],
   "source": [
    "print(\"Before conference: \" , senti_day1.mean())\n",
    "print(\"During conference: \" , senti_day2.mean())\n",
    "print(\"After conference: \" , senti_day3.mean())"
   ]
  },
  {
   "cell_type": "code",
   "execution_count": 72,
   "metadata": {},
   "outputs": [
    {
     "data": {
      "image/png": "[encoded data removed]",
      "text/plain": [
       "<Figure size 648x432 with 1 Axes>"
      ]
     },
     "metadata": {},
     "output_type": "display_data"
    }
   ],
   "source": [
    "\n",
    "sentiment = [senti_day1.mean(),senti_day2.mean(),senti_day3.mean()]\n",
    "fig = plt.figure(figsize = (9, 6))\n",
    " \n",
    "# creating the bar plot\n",
    "plt.bar([\"Before congress\",\"During congress\",\"After congress\"], sentiment, color ='lightblue',\n",
    "        width = 0.2)\n",
    "plt.plot([\"Before congress\",\"During congress\",\"After congress\"], sentiment, color ='black')\n",
    "plt.ylim(0,1)\n",
    "plt.ylabel(\"Daily Avg Sentiment Score\")\n",
    "plt.title(\"Sentiment Trend\")\n",
    "plt.savefig(\"senti1.png\")\n",
    "\n",
    "plt.show()\n"
   ]
  },
  {
   "cell_type": "markdown",
   "metadata": {},
   "source": [
    "## Visualization"
   ]
  },
  {
   "cell_type": "code",
   "execution_count": 30,
   "metadata": {},
   "outputs": [
    {
     "data": {
      "text/html": [
       "\n",
       "    <div class=\"bk-root\">\n",
       "        <a href=\"https://bokeh.org\" target=\"_blank\" class=\"bk-logo bk-logo-small bk-logo-notebook\"></a>\n",
       "        <span id=\"1002\">Loading BokehJS ...</span>\n",
       "    </div>"
      ]
     },
     "metadata": {},
     "output_type": "display_data"
    },
    {
     "data": {
      "application/javascript": "\n(function(root) {\n  function now() {\n    return new Date();\n  }\n\n  const force = true;\n\n  if (typeof root._bokeh_onload_callbacks === \"undefined\" || force === true) {\n    root._bokeh_onload_callbacks = [];\n    root._bokeh_is_loading = undefined;\n  }\n\n  const JS_MIME_TYPE = 'application/javascript';\n  const HTML_MIME_TYPE = 'text/html';\n  const EXEC_MIME_TYPE = 'application/vnd.bokehjs_exec.v0+json';\n  const CLASS_NAME = 'output_bokeh rendered_html';\n\n  /**\n   * Render data to the DOM node\n   */\n  function render(props, node) {\n    const script = document.createElement(\"script\");\n    node.appendChild(script);\n  }\n\n  /**\n   * Handle when an output is cleared or removed\n   */\n  function handleClearOutput(event, handle) {\n    const cell = handle.cell;\n\n    const id = cell.output_area._bokeh_element_id;\n    const server_id = cell.output_area._bokeh_server_id;\n    // Clean up Bokeh references\n    if (id != null && id in Bokeh.index) {\n      Bokeh.index[id].model.document.clear();\n      delete Bokeh.index[id];\n    }\n\n    if (server_id !== undefined) {\n      // Clean up Bokeh references\n      const cmd_clean = \"from bokeh.io.state import curstate; print(curstate().uuid_to_server['\" + server_id + \"'].get_sessions()[0].document.roots[0]._id)\";\n      cell.notebook.kernel.execute(cmd_clean, {\n        iopub: {\n          output: function(msg) {\n            const id = msg.content.text.trim();\n            if (id in Bokeh.index) {\n              Bokeh.index[id].model.document.clear();\n              delete Bokeh.index[id];\n            }\n          }\n        }\n      });\n      // Destroy server and session\n      const cmd_destroy = \"import bokeh.io.notebook as ion; ion.destroy_server('\" + server_id + \"')\";\n      cell.notebook.kernel.execute(cmd_destroy);\n    }\n  }\n\n  /**\n   * Handle when a new output is added\n   */\n  function handleAddOutput(event, handle) {\n    const output_area = handle.output_area;\n    const output = handle.output;\n\n    // limit handleAddOutput to display_data with EXEC_MIME_TYPE content only\n    if ((output.output_type != \"display_data\") || (!Object.prototype.hasOwnProperty.call(output.data, EXEC_MIME_TYPE))) {\n      return\n    }\n\n    const toinsert = output_area.element.find(\".\" + CLASS_NAME.split(' ')[0]);\n\n    if (output.metadata[EXEC_MIME_TYPE][\"id\"] !== undefined) {\n      toinsert[toinsert.length - 1].firstChild.textContent = output.data[JS_MIME_TYPE];\n      // store reference to embed id on output_area\n      output_area._bokeh_element_id = output.metadata[EXEC_MIME_TYPE][\"id\"];\n    }\n    if (output.metadata[EXEC_MIME_TYPE][\"server_id\"] !== undefined) {\n      const bk_div = document.createElement(\"div\");\n      bk_div.innerHTML = output.data[HTML_MIME_TYPE];\n      const script_attrs = bk_div.children[0].attributes;\n      for (let i = 0; i < script_attrs.length; i++) {\n        toinsert[toinsert.length - 1].firstChild.setAttribute(script_attrs[i].name, script_attrs[i].value);\n        toinsert[toinsert.length - 1].firstChild.textContent = bk_div.children[0].textContent\n      }\n      // store reference to server id on output_area\n      output_area._bokeh_server_id = output.metadata[EXEC_MIME_TYPE][\"server_id\"];\n    }\n  }\n\n  function register_renderer(events, OutputArea) {\n\n    function append_mime(data, metadata, element) {\n      // create a DOM node to render to\n      const toinsert = this.create_output_subarea(\n        metadata,\n        CLASS_NAME,\n        EXEC_MIME_TYPE\n      );\n      this.keyboard_manager.register_events(toinsert);\n      // Render to node\n      const props = {data: data, metadata: metadata[EXEC_MIME_TYPE]};\n      render(props, toinsert[toinsert.length - 1]);\n      element.append(toinsert);\n      return toinsert\n    }\n\n    /* Handle when an output is cleared or removed */\n    events.on('clear_output.CodeCell', handleClearOutput);\n    events.on('delete.Cell', handleClearOutput);\n\n    /* Handle when a new output is added */\n    events.on('output_added.OutputArea', handleAddOutput);\n\n    /**\n     * Register the mime type and append_mime function with output_area\n     */\n    OutputArea.prototype.register_mime_type(EXEC_MIME_TYPE, append_mime, {\n      /* Is output safe? */\n      safe: true,\n      /* Index of renderer in `output_area.display_order` */\n      index: 0\n    });\n  }\n\n  // register the mime type if in Jupyter Notebook environment and previously unregistered\n  if (root.Jupyter !== undefined) {\n    const events = require('base/js/events');\n    const OutputArea = require('notebook/js/outputarea').OutputArea;\n\n    if (OutputArea.prototype.mime_types().indexOf(EXEC_MIME_TYPE) == -1) {\n      register_renderer(events, OutputArea);\n    }\n  }\n\n  \n  if (typeof (root._bokeh_timeout) === \"undefined\" || force === true) {\n    root._bokeh_timeout = Date.now() + 5000;\n    root._bokeh_failed_load = false;\n  }\n\n  const NB_LOAD_WARNING = {'data': {'text/html':\n     \"<div style='background-color: #fdd'>\\n\"+\n     \"<p>\\n\"+\n     \"BokehJS does not appear to have successfully loaded. If loading BokehJS from CDN, this \\n\"+\n     \"may be due to a slow or bad network connection. Possible fixes:\\n\"+\n     \"</p>\\n\"+\n     \"<ul>\\n\"+\n     \"<li>re-rerun `output_notebook()` to attempt to load from CDN again, or</li>\\n\"+\n     \"<li>use INLINE resources instead, as so:</li>\\n\"+\n     \"</ul>\\n\"+\n     \"<code>\\n\"+\n     \"from bokeh.resources import INLINE\\n\"+\n     \"output_notebook(resources=INLINE)\\n\"+\n     \"</code>\\n\"+\n     \"</div>\"}};\n\n  function display_loaded() {\n    const el = document.getElementById(\"1002\");\n    if (el != null) {\n      el.textContent = \"BokehJS is loading...\";\n    }\n    if (root.Bokeh !== undefined) {\n      if (el != null) {\n        el.textContent = \"BokehJS \" + root.Bokeh.version + \" successfully loaded.\";\n      }\n    } else if (Date.now() < root._bokeh_timeout) {\n      setTimeout(display_loaded, 100)\n    }\n  }\n\n\n  function run_callbacks() {\n    try {\n      root._bokeh_onload_callbacks.forEach(function(callback) {\n        if (callback != null)\n          callback();\n      });\n    } finally {\n      delete root._bokeh_onload_callbacks\n    }\n    console.debug(\"Bokeh: all callbacks have finished\");\n  }\n\n  function load_libs(css_urls, js_urls, callback) {\n    if (css_urls == null) css_urls = [];\n    if (js_urls == null) js_urls = [];\n\n    root._bokeh_onload_callbacks.push(callback);\n    if (root._bokeh_is_loading > 0) {\n      console.debug(\"Bokeh: BokehJS is being loaded, scheduling callback at\", now());\n      return null;\n    }\n    if (js_urls == null || js_urls.length === 0) {\n      run_callbacks();\n      return null;\n    }\n    console.debug(\"Bokeh: BokehJS not loaded, scheduling load and callback at\", now());\n    root._bokeh_is_loading = css_urls.length + js_urls.length;\n\n    function on_load() {\n      root._bokeh_is_loading--;\n      if (root._bokeh_is_loading === 0) {\n        console.debug(\"Bokeh: all BokehJS libraries/stylesheets loaded\");\n        run_callbacks()\n      }\n    }\n\n    function on_error(url) {\n      console.error(\"failed to load \" + url);\n    }\n\n    for (let i = 0; i < css_urls.length; i++) {\n      const url = css_urls[i];\n      const element = document.createElement(\"link\");\n      element.onload = on_load;\n      element.onerror = on_error.bind(null, url);\n      element.rel = \"stylesheet\";\n      element.type = \"text/css\";\n      element.href = url;\n      console.debug(\"Bokeh: injecting link tag for BokehJS stylesheet: \", url);\n      document.body.appendChild(element);\n    }\n\n    for (let i = 0; i < js_urls.length; i++) {\n      const url = js_urls[i];\n      const element = document.createElement('script');\n      element.onload = on_load;\n      element.onerror = on_error.bind(null, url);\n      element.async = false;\n      element.src = url;\n      console.debug(\"Bokeh: injecting script tag for BokehJS library: \", url);\n      document.head.appendChild(element);\n    }\n  };\n\n  function inject_raw_css(css) {\n    const element = document.createElement(\"style\");\n    element.appendChild(document.createTextNode(css));\n    document.body.appendChild(element);\n  }\n\n  \n  const js_urls = [\"https://cdn.bokeh.org/bokeh/release/bokeh-2.4.2.min.js\", \"https://cdn.bokeh.org/bokeh/release/bokeh-gl-2.4.2.min.js\", \"https://cdn.bokeh.org/bokeh/release/bokeh-widgets-2.4.2.min.js\", \"https://cdn.bokeh.org/bokeh/release/bokeh-tables-2.4.2.min.js\", \"https://cdn.bokeh.org/bokeh/release/bokeh-mathjax-2.4.2.min.js\"];\n  const css_urls = [];\n  \n\n  const inline_js = [\n    function(Bokeh) {\n      Bokeh.set_log_level(\"info\");\n    },\n    function(Bokeh) {\n    \n    \n    }\n  ];\n\n  function run_inline_js() {\n    \n    if (root.Bokeh !== undefined || force === true) {\n      \n    for (let i = 0; i < inline_js.length; i++) {\n      inline_js[i].call(root, root.Bokeh);\n    }\n    if (force === true) {\n        display_loaded();\n      }} else if (Date.now() < root._bokeh_timeout) {\n      setTimeout(run_inline_js, 100);\n    } else if (!root._bokeh_failed_load) {\n      console.log(\"Bokeh: BokehJS failed to load within specified timeout.\");\n      root._bokeh_failed_load = true;\n    } else if (force !== true) {\n      const cell = $(document.getElementById(\"1002\")).parents('.cell').data().cell;\n      cell.output_area.append_execute_result(NB_LOAD_WARNING)\n    }\n\n  }\n\n  if (root._bokeh_is_loading === 0) {\n    console.debug(\"Bokeh: BokehJS loaded, going straight to plotting\");\n    run_inline_js();\n  } else {\n    load_libs(css_urls, js_urls, function() {\n      console.debug(\"Bokeh: BokehJS plotting callback run at\", now());\n      run_inline_js();\n    });\n  }\n}(window));",
      "application/vnd.bokehjs_load.v0+json": ""
     },
     "metadata": {},
     "output_type": "display_data"
    }
   ],
   "source": [
    "# Imports for plotting\n",
    "from datetime import datetime as dt\n",
    "\n",
    "from bokeh.plotting import figure\n",
    "from bokeh.io import show, output_notebook, push_notebook\n",
    "from bokeh.layouts import gridplot, row, column\n",
    "from bokeh.models import ColumnDataSource, HoverTool\n",
    "from bokeh.models.formatters import DatetimeTickFormatter\n",
    "output_notebook()"
   ]
  },
  {
   "cell_type": "code",
   "execution_count": 31,
   "metadata": {},
   "outputs": [],
   "source": [
    "df_senti_day1 = pd.DataFrame(senti_day1, columns=['sentiment_score1'])\n",
    "df_senti_day2 = pd.DataFrame(senti_day2, columns=['sentiment_score2'])\n",
    "df_senti_day3 = pd.DataFrame(senti_day3, columns=['sentiment_score3'])"
   ]
  },
  {
   "cell_type": "code",
   "execution_count": 32,
   "metadata": {},
   "outputs": [
    {
     "data": {
      "text/plain": [
       "[0.548771381397769,\n",
       " 0.5525913969514932,\n",
       " 0.5564114125052173,\n",
       " 0.5602314280589414,\n",
       " 0.5640514436126656,\n",
       " 0.5678714591663897,\n",
       " 0.5716914747201138,\n",
       " 0.575511490273838,\n",
       " 0.5793315058275621,\n",
       " 0.5831515213812863,\n",
       " 0.5869715369350105,\n",
       " 0.5907915524887346,\n",
       " 0.5946115680424587,\n",
       " 0.5984315835961829,\n",
       " 0.602251599149907,\n",
       " 0.6060716147036311,\n",
       " 0.6098916302573553,\n",
       " 0.6137116458110794,\n",
       " 0.6175316613648035,\n",
       " 0.6213516769185277,\n",
       " 0.6251716924722518,\n",
       " 0.6289917080259759,\n",
       " 0.6328117235797001,\n",
       " 0.6366317391334242,\n",
       " 0.6404517546871483]"
      ]
     },
     "execution_count": 32,
     "metadata": {},
     "output_type": "execute_result"
    }
   ],
   "source": [
    "from sklearn.linear_model import LinearRegression\n",
    "from bokeh.models import Slope\n",
    "\n",
    "x=np.arange(25)\n",
    "y=df_senti_day3.sentiment_score3.to_numpy()\n",
    "\n",
    "\n",
    "# determine best fit line\n",
    "par = np.polyfit(x, y, 1, full=True)\n",
    "slope=par[0][0]\n",
    "intercept=par[0][1]\n",
    "y_predicted = [slope*i + intercept  for i in x]\n",
    "y_predicted\n",
    "# # plot it\n",
    "# fig=figure()\n",
    "# fig.circle(x,y)\n",
    "# fig.line(x,y_predicted,color='red',legend='y='+str(round(slope,2))+'x+'+str(round(intercept,2)))\n",
    "# show(fig)"
   ]
  },
  {
   "cell_type": "code",
   "execution_count": 33,
   "metadata": {},
   "outputs": [
    {
     "data": {
      "text/plain": [
       "('#08306b',\n",
       " '#08519c',\n",
       " '#2171b5',\n",
       " '#4292c6',\n",
       " '#6baed6',\n",
       " '#9ecae1',\n",
       " '#c6dbef',\n",
       " '#deebf7',\n",
       " '#f7fbff')"
      ]
     },
     "execution_count": 33,
     "metadata": {},
     "output_type": "execute_result"
    }
   ],
   "source": [
    "from bokeh import palettes\n",
    "palettes.Blues9"
   ]
  },
  {
   "cell_type": "code",
   "execution_count": 34,
   "metadata": {},
   "outputs": [
    {
     "data": {
      "text/html": [
       "\n",
       "\n",
       "\n",
       "\n",
       "\n",
       "\n",
       "  <div class=\"bk-root\" id=\"f937da45-82ac-4bff-8b10-972c90ada2e4\" data-root-id=\"1003\"></div>\n"
      ]
     },
     "metadata": {},
     "output_type": "display_data"
    },
    {
     "data": {
      "application/javascript": "(function(root) {\n  function embed_document(root) {\n    \n  const docs_json = {\"ff406562-489a-4897-96b5-eaede345a461\":{\"defs\":[],\"roots\":{\"references\":[{\"attributes\":{\"below\":[{\"id\":\"1014\"}],\"center\":[{\"id\":\"1017\"},{\"id\":\"1021\"},{\"id\":\"1064\"}],\"left\":[{\"id\":\"1018\"}],\"renderers\":[{\"id\":\"1040\"},{\"id\":\"1070\"},{\"id\":\"1101\"},{\"id\":\"1134\"},{\"id\":\"1140\"},{\"id\":\"1146\"}],\"title\":{\"id\":\"1004\"},\"toolbar\":{\"id\":\"1029\"},\"width\":1000,\"x_range\":{\"id\":\"1006\"},\"x_scale\":{\"id\":\"1010\"},\"y_range\":{\"id\":\"1008\"},\"y_scale\":{\"id\":\"1012\"}},\"id\":\"1003\",\"subtype\":\"Figure\",\"type\":\"Plot\"},{\"attributes\":{},\"id\":\"1047\",\"type\":\"DatetimeTickFormatter\"},{\"attributes\":{\"mantissas\":[1,2,5],\"max_interval\":500.0,\"num_minor_ticks\":0},\"id\":\"1052\",\"type\":\"AdaptiveTicker\"},{\"attributes\":{\"source\":{\"id\":\"1130\"}},\"id\":\"1135\",\"type\":\"CDSView\"},{\"attributes\":{},\"id\":\"1045\",\"type\":\"AllLabels\"},{\"attributes\":{\"line_alpha\":0.2,\"line_color\":\"red\",\"line_width\":2,\"x\":{\"field\":\"x\"},\"y\":{\"field\":\"y\"}},\"id\":\"1133\",\"type\":\"Line\"},{\"attributes\":{\"base\":60,\"mantissas\":[1,2,5,10,15,20,30],\"max_interval\":1800000.0,\"min_interval\":1000.0,\"num_minor_ticks\":0},\"id\":\"1053\",\"type\":\"AdaptiveTicker\"},{\"attributes\":{\"days\":[1,8,15,22]},\"id\":\"1057\",\"type\":\"DaysTicker\"},{\"attributes\":{\"base\":24,\"mantissas\":[1,2,4,6,8,12],\"max_interval\":43200000.0,\"min_interval\":3600000.0,\"num_minor_ticks\":0},\"id\":\"1054\",\"type\":\"AdaptiveTicker\"},{\"attributes\":{},\"id\":\"1063\",\"type\":\"YearsTicker\"},{\"attributes\":{\"days\":[1,4,7,10,13,16,19,22,25,28]},\"id\":\"1056\",\"type\":\"DaysTicker\"},{\"attributes\":{\"days\":[1,2,3,4,5,6,7,8,9,10,11,12,13,14,15,16,17,18,19,20,21,22,23,24,25,26,27,28,29,30,31]},\"id\":\"1055\",\"type\":\"DaysTicker\"},{\"attributes\":{\"line_color\":\"red\",\"line_width\":2,\"x\":{\"field\":\"x\"},\"y\":{\"field\":\"y\"}},\"id\":\"1131\",\"type\":\"Line\"},{\"attributes\":{\"months\":[0,6]},\"id\":\"1062\",\"type\":\"MonthsTicker\"},{\"attributes\":{\"data\":{\"x\":[1663286400000.0,1665878400000.0],\"y\":[4.440892e-16,0.5376048]},\"selected\":{\"id\":\"1162\"},\"selection_policy\":{\"id\":\"1161\"}},\"id\":\"1130\",\"type\":\"ColumnDataSource\"},{\"attributes\":{\"days\":[1,15]},\"id\":\"1058\",\"type\":\"DaysTicker\"},{\"attributes\":{\"months\":[0,1,2,3,4,5,6,7,8,9,10,11]},\"id\":\"1059\",\"type\":\"MonthsTicker\"},{\"attributes\":{\"months\":[0,2,4,6,8,10]},\"id\":\"1060\",\"type\":\"MonthsTicker\"},{\"attributes\":{\"line_color\":\"blue\",\"line_width\":2,\"x\":{\"field\":\"x\"},\"y\":{\"field\":\"y\"}},\"id\":\"1137\",\"type\":\"Line\"},{\"attributes\":{\"coordinates\":null,\"data_source\":{\"id\":\"1130\"},\"glyph\":{\"id\":\"1131\"},\"group\":null,\"hover_glyph\":null,\"muted_glyph\":{\"id\":\"1133\"},\"nonselection_glyph\":{\"id\":\"1132\"},\"view\":{\"id\":\"1135\"}},\"id\":\"1134\",\"type\":\"GlyphRenderer\"},{\"attributes\":{\"line_alpha\":0.1,\"line_color\":\"red\",\"line_width\":2,\"x\":{\"field\":\"x\"},\"y\":{\"field\":\"y\"}},\"id\":\"1132\",\"type\":\"Line\"},{\"attributes\":{\"months\":[0,4,8]},\"id\":\"1061\",\"type\":\"MonthsTicker\"},{\"attributes\":{\"data\":{\"x\":[1665964800000.0,1666310400000.0],\"y\":[0.92104,0.587548]},\"selected\":{\"id\":\"1164\"},\"selection_policy\":{\"id\":\"1163\"}},\"id\":\"1136\",\"type\":\"ColumnDataSource\"},{\"attributes\":{\"coordinates\":null,\"data_source\":{\"id\":\"1136\"},\"glyph\":{\"id\":\"1137\"},\"group\":null,\"hover_glyph\":null,\"muted_glyph\":{\"id\":\"1139\"},\"nonselection_glyph\":{\"id\":\"1138\"},\"view\":{\"id\":\"1141\"}},\"id\":\"1140\",\"type\":\"GlyphRenderer\"},{\"attributes\":{\"source\":{\"id\":\"1136\"}},\"id\":\"1141\",\"type\":\"CDSView\"},{\"attributes\":{\"line_color\":\"green\",\"line_width\":2,\"x\":{\"field\":\"x\"},\"y\":{\"field\":\"y\"}},\"id\":\"1143\",\"type\":\"Line\"},{\"attributes\":{\"line_alpha\":0.2,\"line_color\":\"blue\",\"line_width\":2,\"x\":{\"field\":\"x\"},\"y\":{\"field\":\"y\"}},\"id\":\"1139\",\"type\":\"Line\"},{\"attributes\":{\"line_alpha\":0.1,\"line_color\":\"blue\",\"line_width\":2,\"x\":{\"field\":\"x\"},\"y\":{\"field\":\"y\"}},\"id\":\"1138\",\"type\":\"Line\"},{\"attributes\":{\"data\":{\"x\":[1666396800000.0,1669075200000.0],\"y\":[0.173966,0.781571]},\"selected\":{\"id\":\"1166\"},\"selection_policy\":{\"id\":\"1165\"}},\"id\":\"1142\",\"type\":\"ColumnDataSource\"},{\"attributes\":{\"coordinates\":null,\"data_source\":{\"id\":\"1142\"},\"glyph\":{\"id\":\"1143\"},\"group\":null,\"hover_glyph\":null,\"muted_glyph\":{\"id\":\"1145\"},\"nonselection_glyph\":{\"id\":\"1144\"},\"view\":{\"id\":\"1147\"}},\"id\":\"1146\",\"type\":\"GlyphRenderer\"},{\"attributes\":{\"source\":{\"id\":\"1142\"}},\"id\":\"1147\",\"type\":\"CDSView\"},{\"attributes\":{\"line_alpha\":0.2,\"line_color\":\"green\",\"line_width\":2,\"x\":{\"field\":\"x\"},\"y\":{\"field\":\"y\"}},\"id\":\"1145\",\"type\":\"Line\"},{\"attributes\":{\"line_alpha\":0.1,\"line_color\":\"green\",\"line_width\":2,\"x\":{\"field\":\"x\"},\"y\":{\"field\":\"y\"}},\"id\":\"1144\",\"type\":\"Line\"},{\"attributes\":{},\"id\":\"1162\",\"type\":\"Selection\"},{\"attributes\":{},\"id\":\"1161\",\"type\":\"UnionRenderers\"},{\"attributes\":{},\"id\":\"1163\",\"type\":\"UnionRenderers\"},{\"attributes\":{},\"id\":\"1164\",\"type\":\"Selection\"},{\"attributes\":{\"fill_alpha\":{\"value\":0.5},\"fill_color\":{\"value\":\"#c7e9c0\"},\"hatch_alpha\":{\"value\":0.5},\"hatch_color\":{\"value\":\"#c7e9c0\"},\"line_alpha\":{\"value\":0.5},\"line_color\":{\"value\":\"#c7e9c0\"},\"top\":{\"field\":\"top\"},\"width\":{\"value\":86400000},\"x\":{\"field\":\"x\"}},\"id\":\"1098\",\"type\":\"VBar\"},{\"attributes\":{},\"id\":\"1044\",\"type\":\"BasicTickFormatter\"},{\"attributes\":{\"data\":{\"top\":{\"__ndarray__\":\"I+W9AYVExj+XkYz2PuriP3NY9UTjzO0/M9YilrEo4D+VVO424ofsPyNvFgFgKdA/UAwbeD9L6j+T+sU57pHSP/Mb62gfM+4/aIAGB51Dwj8HGY0gOYjnP5+bGLYEtu8/hU6NFql65D8pdCGlRFDlP8bxg6SkA+8/4AG6JgxZbz//EQYpexNUP+ndkc78f9Y/8v7AHNEY5j++/VvQS93kP4SkWuTOneY/Dt24+b8Q6z/q86ePpdjgPwudZNOJVOg/DVMy26EC6T8=\",\"dtype\":\"float64\",\"order\":\"little\",\"shape\":[25]},\"x\":{\"__ndarray__\":\"AABA1M8/eEIAAAA6IkB4QgAAwJ90QHhCAACABcdAeEIAAEBrGUF4QgAAANFrQXhCAADANr5BeEIAAICcEEJ4QgAAQAJjQnhCAAAAaLVCeEIAAMDNB0N4QgAAgDNaQ3hCAABAmaxDeEIAAAD//kN4QgAAwGRRRHhCAACAyqNEeEIAAEAw9kR4QgAAQF6JR3hCAAAAxNtHeEIAAMApLkh4QgAAgI+ASHhCAABA9dJIeEIAAABbJUl4QgAAwMB3SXhCAACAJspJeEI=\",\"dtype\":\"float64\",\"order\":\"little\",\"shape\":[25]}},\"selected\":{\"id\":\"1115\"},\"selection_policy\":{\"id\":\"1114\"}},\"id\":\"1097\",\"type\":\"ColumnDataSource\"},{\"attributes\":{},\"id\":\"1048\",\"type\":\"AllLabels\"},{\"attributes\":{},\"id\":\"1025\",\"type\":\"SaveTool\"},{\"attributes\":{},\"id\":\"1049\",\"type\":\"UnionRenderers\"},{\"attributes\":{},\"id\":\"1165\",\"type\":\"UnionRenderers\"},{\"attributes\":{\"fill_alpha\":{\"value\":0.5},\"fill_color\":{\"value\":\"#c6dbef\"},\"hatch_alpha\":{\"value\":0.5},\"hatch_color\":{\"value\":\"#c6dbef\"},\"line_alpha\":{\"value\":0.5},\"line_color\":{\"value\":\"#c6dbef\"},\"top\":{\"field\":\"top\"},\"width\":{\"value\":86400000},\"x\":{\"field\":\"x\"}},\"id\":\"1067\",\"type\":\"VBar\"},{\"attributes\":{\"overlay\":{\"id\":\"1028\"}},\"id\":\"1024\",\"type\":\"BoxZoomTool\"},{\"attributes\":{},\"id\":\"1022\",\"type\":\"PanTool\"},{\"attributes\":{},\"id\":\"1166\",\"type\":\"Selection\"},{\"attributes\":{},\"id\":\"1023\",\"type\":\"WheelZoomTool\"},{\"attributes\":{\"data\":{\"top\":{\"__ndarray__\":\"8u10USl57T9RRVt70CLrP3HhMQrYfec/ZyOwdSty5j+HlpL5Mc3iPw==\",\"dtype\":\"float64\",\"order\":\"little\",\"shape\":[5]},\"x\":{\"__ndarray__\":\"AACA1zM+eEIAAEA9hj54QgAAAKPYPnhCAADACCs/eEIAAIBufT94Qg==\",\"dtype\":\"float64\",\"order\":\"little\",\"shape\":[5]}},\"selected\":{\"id\":\"1082\"},\"selection_policy\":{\"id\":\"1081\"}},\"id\":\"1066\",\"type\":\"ColumnDataSource\"},{\"attributes\":{},\"id\":\"1027\",\"type\":\"HelpTool\"},{\"attributes\":{\"fill_alpha\":{\"value\":0.5},\"fill_color\":{\"value\":\"#fcbba1\"},\"hatch_alpha\":{\"value\":0.5},\"hatch_color\":{\"value\":\"#fcbba1\"},\"line_alpha\":{\"value\":0.5},\"line_color\":{\"value\":\"#fcbba1\"},\"top\":{\"field\":\"top\"},\"width\":{\"value\":86400000},\"x\":{\"field\":\"x\"}},\"id\":\"1037\",\"type\":\"VBar\"},{\"attributes\":{},\"id\":\"1019\",\"type\":\"BasicTicker\"},{\"attributes\":{\"axis\":{\"id\":\"1018\"},\"coordinates\":null,\"dimension\":1,\"group\":null,\"ticker\":null},\"id\":\"1021\",\"type\":\"Grid\"},{\"attributes\":{\"label\":{\"value\":\"sentiment score_during\"},\"renderers\":[{\"id\":\"1070\"}]},\"id\":\"1096\",\"type\":\"LegendItem\"},{\"attributes\":{\"coordinates\":null,\"formatter\":{\"id\":\"1044\"},\"group\":null,\"major_label_policy\":{\"id\":\"1045\"},\"ticker\":{\"id\":\"1019\"}},\"id\":\"1018\",\"type\":\"LinearAxis\"},{\"attributes\":{},\"id\":\"1026\",\"type\":\"ResetTool\"},{\"attributes\":{\"coordinates\":null,\"data_source\":{\"id\":\"1066\"},\"glyph\":{\"id\":\"1067\"},\"group\":null,\"hover_glyph\":null,\"muted_glyph\":{\"id\":\"1069\"},\"nonselection_glyph\":{\"id\":\"1068\"},\"view\":{\"id\":\"1071\"}},\"id\":\"1070\",\"type\":\"GlyphRenderer\"},{\"attributes\":{\"fill_alpha\":{\"value\":0.2},\"fill_color\":{\"value\":\"#c6dbef\"},\"hatch_alpha\":{\"value\":0.2},\"hatch_color\":{\"value\":\"#c6dbef\"},\"line_alpha\":{\"value\":0.2},\"line_color\":{\"value\":\"#c6dbef\"},\"top\":{\"field\":\"top\"},\"width\":{\"value\":86400000},\"x\":{\"field\":\"x\"}},\"id\":\"1069\",\"type\":\"VBar\"},{\"attributes\":{\"coordinates\":null,\"formatter\":{\"id\":\"1047\"},\"group\":null,\"major_label_policy\":{\"id\":\"1048\"},\"ticker\":{\"id\":\"1015\"}},\"id\":\"1014\",\"type\":\"DatetimeAxis\"},{\"attributes\":{\"fill_alpha\":{\"value\":0.1},\"fill_color\":{\"value\":\"#c6dbef\"},\"hatch_alpha\":{\"value\":0.1},\"hatch_color\":{\"value\":\"#c6dbef\"},\"line_alpha\":{\"value\":0.1},\"line_color\":{\"value\":\"#c6dbef\"},\"top\":{\"field\":\"top\"},\"width\":{\"value\":86400000},\"x\":{\"field\":\"x\"}},\"id\":\"1068\",\"type\":\"VBar\"},{\"attributes\":{},\"id\":\"1010\",\"type\":\"LinearScale\"},{\"attributes\":{\"source\":{\"id\":\"1066\"}},\"id\":\"1071\",\"type\":\"CDSView\"},{\"attributes\":{\"tools\":[{\"id\":\"1022\"},{\"id\":\"1023\"},{\"id\":\"1024\"},{\"id\":\"1025\"},{\"id\":\"1026\"},{\"id\":\"1027\"}]},\"id\":\"1029\",\"type\":\"Toolbar\"},{\"attributes\":{\"axis\":{\"id\":\"1014\"},\"coordinates\":null,\"grid_line_color\":null,\"group\":null,\"ticker\":null},\"id\":\"1017\",\"type\":\"Grid\"},{\"attributes\":{},\"id\":\"1012\",\"type\":\"LinearScale\"},{\"attributes\":{\"num_minor_ticks\":5,\"tickers\":[{\"id\":\"1052\"},{\"id\":\"1053\"},{\"id\":\"1054\"},{\"id\":\"1055\"},{\"id\":\"1056\"},{\"id\":\"1057\"},{\"id\":\"1058\"},{\"id\":\"1059\"},{\"id\":\"1060\"},{\"id\":\"1061\"},{\"id\":\"1062\"},{\"id\":\"1063\"}]},\"id\":\"1015\",\"type\":\"DatetimeTicker\"},{\"attributes\":{\"bottom_units\":\"screen\",\"coordinates\":null,\"fill_alpha\":0.5,\"fill_color\":\"lightgrey\",\"group\":null,\"left_units\":\"screen\",\"level\":\"overlay\",\"line_alpha\":1.0,\"line_color\":\"black\",\"line_dash\":[4,4],\"line_width\":2,\"right_units\":\"screen\",\"syncable\":false,\"top_units\":\"screen\"},\"id\":\"1028\",\"type\":\"BoxAnnotation\"},{\"attributes\":{\"coordinates\":null,\"group\":null,\"text\":\"Sentiment Trend\"},\"id\":\"1004\",\"type\":\"Title\"},{\"attributes\":{\"start\":0},\"id\":\"1008\",\"type\":\"DataRange1d\"},{\"attributes\":{},\"id\":\"1082\",\"type\":\"Selection\"},{\"attributes\":{},\"id\":\"1006\",\"type\":\"DataRange1d\"},{\"attributes\":{},\"id\":\"1081\",\"type\":\"UnionRenderers\"},{\"attributes\":{\"fill_alpha\":{\"value\":0.1},\"fill_color\":{\"value\":\"#fcbba1\"},\"hatch_alpha\":{\"value\":0.1},\"hatch_color\":{\"value\":\"#fcbba1\"},\"line_alpha\":{\"value\":0.1},\"line_color\":{\"value\":\"#fcbba1\"},\"top\":{\"field\":\"top\"},\"width\":{\"value\":86400000},\"x\":{\"field\":\"x\"}},\"id\":\"1038\",\"type\":\"VBar\"},{\"attributes\":{\"source\":{\"id\":\"1036\"}},\"id\":\"1041\",\"type\":\"CDSView\"},{\"attributes\":{\"coordinates\":null,\"group\":null,\"items\":[{\"id\":\"1065\"},{\"id\":\"1096\"},{\"id\":\"1129\"}]},\"id\":\"1064\",\"type\":\"Legend\"},{\"attributes\":{\"coordinates\":null,\"data_source\":{\"id\":\"1036\"},\"glyph\":{\"id\":\"1037\"},\"group\":null,\"hover_glyph\":null,\"muted_glyph\":{\"id\":\"1039\"},\"nonselection_glyph\":{\"id\":\"1038\"},\"view\":{\"id\":\"1041\"}},\"id\":\"1040\",\"type\":\"GlyphRenderer\"},{\"attributes\":{\"data\":{\"top\":{\"__ndarray__\":\"AAAAAAAAwDwl8c05GfXvP45WZ24CGOw/rsDAvb2g6z/rj/s3hxTjP/EY7iNYJOk/bGCvht284D8k9hzXSGXlP/LnO/hx9u8/ezwfNpIp3T9xVmlTYZDpP6HdBzIOie0/kR8+P+GH3z+rmK++LTHrP/kkv96lSNA/B1MuJFoDvD/tqklakInpP+pXsFpzkes/U9hxn1yD6j+qYDc2FXbcP0CEMqHsQOo/f9EYtI3f1D8/Ys1nt3zlP06id6z/qeU/XkiVmWAi5j9HHQ/eSJblP5ejVKayj+s/VWSd56x46z+fY6liAjHoPyUMXwWQIuY/gZSJAQ804T8=\",\"dtype\":\"float64\",\"order\":\"little\",\"shape\":[31]},\"x\":{\"__ndarray__\":\"AABAhTk0eEIAAADrizR4QgAAwFDeNHhCAACAtjA1eEIAAEAcgzV4QgAAAILVNXhCAADA5yc2eEIAAIBNejZ4QgAAQLPMNnhCAAAAGR83eEIAAMB+cTd4QgAAgOTDN3hCAABAShY4eEIAAACwaDh4QgAAwBW7OHhCAACAew05eEIAAEDhXzl4QgAAAEeyOXhCAADArAQ6eEIAAIASVzp4QgAAQHipOnhCAAAA3vs6eEIAAMBDTjt4QgAAgKmgO3hCAABAD/M7eEIAAAB1RTx4QgAAwNqXPHhCAACAQOo8eEIAAECmPD14QgAAAAyPPXhCAADAceE9eEI=\",\"dtype\":\"float64\",\"order\":\"little\",\"shape\":[31]}},\"selected\":{\"id\":\"1050\"},\"selection_policy\":{\"id\":\"1049\"}},\"id\":\"1036\",\"type\":\"ColumnDataSource\"},{\"attributes\":{\"coordinates\":null,\"data_source\":{\"id\":\"1097\"},\"glyph\":{\"id\":\"1098\"},\"group\":null,\"hover_glyph\":null,\"muted_glyph\":{\"id\":\"1100\"},\"nonselection_glyph\":{\"id\":\"1099\"},\"view\":{\"id\":\"1102\"}},\"id\":\"1101\",\"type\":\"GlyphRenderer\"},{\"attributes\":{\"fill_alpha\":{\"value\":0.2},\"fill_color\":{\"value\":\"#fcbba1\"},\"hatch_alpha\":{\"value\":0.2},\"hatch_color\":{\"value\":\"#fcbba1\"},\"line_alpha\":{\"value\":0.2},\"line_color\":{\"value\":\"#fcbba1\"},\"top\":{\"field\":\"top\"},\"width\":{\"value\":86400000},\"x\":{\"field\":\"x\"}},\"id\":\"1039\",\"type\":\"VBar\"},{\"attributes\":{\"label\":{\"value\":\"sentiment score_after\"},\"renderers\":[{\"id\":\"1101\"}]},\"id\":\"1129\",\"type\":\"LegendItem\"},{\"attributes\":{\"fill_alpha\":{\"value\":0.2},\"fill_color\":{\"value\":\"#c7e9c0\"},\"hatch_alpha\":{\"value\":0.2},\"hatch_color\":{\"value\":\"#c7e9c0\"},\"line_alpha\":{\"value\":0.2},\"line_color\":{\"value\":\"#c7e9c0\"},\"top\":{\"field\":\"top\"},\"width\":{\"value\":86400000},\"x\":{\"field\":\"x\"}},\"id\":\"1100\",\"type\":\"VBar\"},{\"attributes\":{\"fill_alpha\":{\"value\":0.1},\"fill_color\":{\"value\":\"#c7e9c0\"},\"hatch_alpha\":{\"value\":0.1},\"hatch_color\":{\"value\":\"#c7e9c0\"},\"line_alpha\":{\"value\":0.1},\"line_color\":{\"value\":\"#c7e9c0\"},\"top\":{\"field\":\"top\"},\"width\":{\"value\":86400000},\"x\":{\"field\":\"x\"}},\"id\":\"1099\",\"type\":\"VBar\"},{\"attributes\":{\"source\":{\"id\":\"1097\"}},\"id\":\"1102\",\"type\":\"CDSView\"},{\"attributes\":{},\"id\":\"1114\",\"type\":\"UnionRenderers\"},{\"attributes\":{},\"id\":\"1115\",\"type\":\"Selection\"},{\"attributes\":{\"label\":{\"value\":\"sentiment score_before\"},\"renderers\":[{\"id\":\"1040\"}]},\"id\":\"1065\",\"type\":\"LegendItem\"},{\"attributes\":{},\"id\":\"1050\",\"type\":\"Selection\"}],\"root_ids\":[\"1003\"]},\"title\":\"Bokeh Application\",\"version\":\"2.4.2\"}};\n  const render_items = [{\"docid\":\"ff406562-489a-4897-96b5-eaede345a461\",\"root_ids\":[\"1003\"],\"roots\":{\"1003\":\"f937da45-82ac-4bff-8b10-972c90ada2e4\"}}];\n  root.Bokeh.embed.embed_items_notebook(docs_json, render_items);\n\n  }\n  if (root.Bokeh !== undefined) {\n    embed_document(root);\n  } else {\n    let attempts = 0;\n    const timer = setInterval(function(root) {\n      if (root.Bokeh !== undefined) {\n        clearInterval(timer);\n        embed_document(root);\n      } else {\n        attempts++;\n        if (attempts > 100) {\n          clearInterval(timer);\n          console.log(\"Bokeh: ERROR: Unable to run BokehJS code because BokehJS library is missing\");\n        }\n      }\n    }, 10, root)\n  }\n})(window);",
      "application/vnd.bokehjs_exec.v0+json": ""
     },
     "metadata": {
      "application/vnd.bokehjs_exec.v0+json": {
       "id": "1003"
      }
     },
     "output_type": "display_data"
    }
   ],
   "source": [
    "\n",
    "\n",
    "p = figure(x_axis_type= 'datetime', width=1000, height=600, title=\"Sentiment Trend\")\n",
    "\n",
    "p.vbar(x=df_senti_day1.index, top=df_senti_day1.sentiment_score1, color='#fcbba1', legend_label=f'sentiment score_before', alpha=0.5, width=24*60*60*1000)\n",
    "p.vbar(x=df_senti_day2.index, top=df_senti_day2.sentiment_score2, color='#c6dbef', legend_label=f'sentiment score_during', alpha=0.5, width=24*60*60*1000)\n",
    "p.vbar(x=df_senti_day3.index, top=df_senti_day3.sentiment_score3, color='#c7e9c0', legend_label=f'sentiment score_after', alpha=0.5, width=24*60*60*1000)\n",
    "p.line(x=[dt(2022, 9, 16), dt(2022, 10, 16)], y=[4.440892e-16, 5.376048e-01], color=\"red\", line_width=2)\n",
    "p.line(x=[dt(2022, 10, 17), dt(2022, 10, 21)], y=[0.921040, 0.587548], color=\"blue\", line_width=2)\n",
    "p.line(x=[dt(2022, 10, 22), dt(2022, 11, 22)], y=[0.173966, 0.781571], color=\"green\", line_width=2)\n",
    "\n",
    "p.xgrid.grid_line_color = None\n",
    "p.y_range.start = 0\n",
    "\n",
    "show(p)"
   ]
  },
  {
   "cell_type": "code",
   "execution_count": 35,
   "metadata": {},
   "outputs": [
    {
     "data": {
      "text/html": [
       "\n",
       "\n",
       "\n",
       "\n",
       "\n",
       "\n",
       "  <div class=\"bk-root\" id=\"029ad797-cd8b-4511-bc5c-0c577154c1e3\" data-root-id=\"1340\"></div>\n"
      ]
     },
     "metadata": {},
     "output_type": "display_data"
    },
    {
     "data": {
      "application/javascript": "(function(root) {\n  function embed_document(root) {\n    \n  const docs_json = {\"299fa0a7-de74-4ca4-8543-7ce3db415ed7\":{\"defs\":[],\"roots\":{\"references\":[{\"attributes\":{\"below\":[{\"id\":\"1351\"}],\"center\":[{\"id\":\"1354\"},{\"id\":\"1358\"},{\"id\":\"1401\"}],\"left\":[{\"id\":\"1355\"}],\"renderers\":[{\"id\":\"1377\"},{\"id\":\"1407\"},{\"id\":\"1438\"},{\"id\":\"1471\"},{\"id\":\"1477\"},{\"id\":\"1483\"}],\"title\":{\"id\":\"1341\"},\"toolbar\":{\"id\":\"1366\"},\"width\":1000,\"x_range\":{\"id\":\"1343\"},\"x_scale\":{\"id\":\"1347\"},\"y_range\":{\"id\":\"1345\"},\"y_scale\":{\"id\":\"1349\"}},\"id\":\"1340\",\"subtype\":\"Figure\",\"type\":\"Plot\"},{\"attributes\":{},\"id\":\"1419\",\"type\":\"Selection\"},{\"attributes\":{},\"id\":\"1382\",\"type\":\"AllLabels\"},{\"attributes\":{\"source\":{\"id\":\"1403\"}},\"id\":\"1408\",\"type\":\"CDSView\"},{\"attributes\":{\"fill_alpha\":{\"value\":0.1},\"fill_color\":{\"value\":\"#c6dbef\"},\"hatch_alpha\":{\"value\":0.1},\"hatch_color\":{\"value\":\"#c6dbef\"},\"line_alpha\":{\"value\":0.1},\"line_color\":{\"value\":\"#c6dbef\"},\"top\":{\"field\":\"top\"},\"width\":{\"value\":86400000},\"x\":{\"field\":\"x\"}},\"id\":\"1405\",\"type\":\"VBar\"},{\"attributes\":{\"fill_alpha\":{\"value\":0.2},\"fill_color\":{\"value\":\"#c6dbef\"},\"hatch_alpha\":{\"value\":0.2},\"hatch_color\":{\"value\":\"#c6dbef\"},\"line_alpha\":{\"value\":0.2},\"line_color\":{\"value\":\"#c6dbef\"},\"top\":{\"field\":\"top\"},\"width\":{\"value\":86400000},\"x\":{\"field\":\"x\"}},\"id\":\"1406\",\"type\":\"VBar\"},{\"attributes\":{},\"id\":\"1534\",\"type\":\"UnionRenderers\"},{\"attributes\":{\"coordinates\":null,\"data_source\":{\"id\":\"1403\"},\"glyph\":{\"id\":\"1404\"},\"group\":null,\"hover_glyph\":null,\"muted_glyph\":{\"id\":\"1406\"},\"nonselection_glyph\":{\"id\":\"1405\"},\"view\":{\"id\":\"1408\"}},\"id\":\"1407\",\"type\":\"GlyphRenderer\"},{\"attributes\":{\"data\":{\"top\":{\"__ndarray__\":\"I+W9AYVExj+XkYz2PuriP3NY9UTjzO0/M9YilrEo4D+VVO424ofsPyNvFgFgKdA/UAwbeD9L6j+T+sU57pHSP/Mb62gfM+4/aIAGB51Dwj8HGY0gOYjnP5+bGLYEtu8/hU6NFql65D8pdCGlRFDlP8bxg6SkA+8/4AG6JgxZbz//EQYpexNUP+ndkc78f9Y/8v7AHNEY5j++/VvQS93kP4SkWuTOneY/Dt24+b8Q6z/q86ePpdjgPwudZNOJVOg/DVMy26EC6T8=\",\"dtype\":\"float64\",\"order\":\"little\",\"shape\":[25]},\"x\":{\"__ndarray__\":\"AABA1M8/eEIAAAA6IkB4QgAAwJ90QHhCAACABcdAeEIAAEBrGUF4QgAAANFrQXhCAADANr5BeEIAAICcEEJ4QgAAQAJjQnhCAAAAaLVCeEIAAMDNB0N4QgAAgDNaQ3hCAABAmaxDeEIAAAD//kN4QgAAwGRRRHhCAACAyqNEeEIAAEAw9kR4QgAAQF6JR3hCAAAAxNtHeEIAAMApLkh4QgAAgI+ASHhCAABA9dJIeEIAAABbJUl4QgAAwMB3SXhCAACAJspJeEI=\",\"dtype\":\"float64\",\"order\":\"little\",\"shape\":[25]}},\"selected\":{\"id\":\"1452\"},\"selection_policy\":{\"id\":\"1451\"}},\"id\":\"1434\",\"type\":\"ColumnDataSource\"},{\"attributes\":{},\"id\":\"1535\",\"type\":\"Selection\"},{\"attributes\":{\"coordinates\":null,\"data_source\":{\"id\":\"1373\"},\"glyph\":{\"id\":\"1374\"},\"group\":null,\"hover_glyph\":null,\"muted_glyph\":{\"id\":\"1376\"},\"nonselection_glyph\":{\"id\":\"1375\"},\"view\":{\"id\":\"1378\"}},\"id\":\"1377\",\"type\":\"GlyphRenderer\"},{\"attributes\":{},\"id\":\"1385\",\"type\":\"AllLabels\"},{\"attributes\":{\"label\":{\"value\":\"sentiment score_during\"},\"renderers\":[{\"id\":\"1407\"}]},\"id\":\"1433\",\"type\":\"LegendItem\"},{\"attributes\":{\"coordinates\":null,\"data_source\":{\"id\":\"1467\"},\"glyph\":{\"id\":\"1468\"},\"group\":null,\"hover_glyph\":null,\"muted_glyph\":{\"id\":\"1470\"},\"nonselection_glyph\":{\"id\":\"1469\"},\"view\":{\"id\":\"1472\"}},\"id\":\"1471\",\"type\":\"GlyphRenderer\"},{\"attributes\":{\"source\":{\"id\":\"1467\"}},\"id\":\"1472\",\"type\":\"CDSView\"},{\"attributes\":{},\"id\":\"1381\",\"type\":\"BasicTickFormatter\"},{\"attributes\":{\"label\":{\"value\":\"sentiment score_before\"},\"renderers\":[{\"id\":\"1377\"}]},\"id\":\"1402\",\"type\":\"LegendItem\"},{\"attributes\":{\"line_color\":\"red\",\"line_width\":2,\"x\":{\"field\":\"x\"},\"y\":{\"field\":\"y\"}},\"id\":\"1468\",\"type\":\"Line\"},{\"attributes\":{\"data\":{\"x\":[1663286400000.0,1665878400000.0],\"y\":[0.6542100433247727,0.680978490763814]},\"selected\":{\"id\":\"1531\"},\"selection_policy\":{\"id\":\"1530\"}},\"id\":\"1467\",\"type\":\"ColumnDataSource\"},{\"attributes\":{\"line_color\":\"blue\",\"line_width\":2,\"x\":{\"field\":\"x\"},\"y\":{\"field\":\"y\"}},\"id\":\"1474\",\"type\":\"Line\"},{\"attributes\":{\"line_alpha\":0.2,\"line_color\":\"red\",\"line_width\":2,\"x\":{\"field\":\"x\"},\"y\":{\"field\":\"y\"}},\"id\":\"1470\",\"type\":\"Line\"},{\"attributes\":{\"line_alpha\":0.1,\"line_color\":\"red\",\"line_width\":2,\"x\":{\"field\":\"x\"},\"y\":{\"field\":\"y\"}},\"id\":\"1469\",\"type\":\"Line\"},{\"attributes\":{},\"id\":\"1386\",\"type\":\"UnionRenderers\"},{\"attributes\":{\"data\":{\"x\":[1665964800000.0,1666310400000.0],\"y\":[0.9211367591118649,0.5957179609060277]},\"selected\":{\"id\":\"1533\"},\"selection_policy\":{\"id\":\"1532\"}},\"id\":\"1473\",\"type\":\"ColumnDataSource\"},{\"attributes\":{\"coordinates\":null,\"data_source\":{\"id\":\"1473\"},\"glyph\":{\"id\":\"1474\"},\"group\":null,\"hover_glyph\":null,\"muted_glyph\":{\"id\":\"1476\"},\"nonselection_glyph\":{\"id\":\"1475\"},\"view\":{\"id\":\"1478\"}},\"id\":\"1477\",\"type\":\"GlyphRenderer\"},{\"attributes\":{\"source\":{\"id\":\"1473\"}},\"id\":\"1478\",\"type\":\"CDSView\"},{\"attributes\":{},\"id\":\"1384\",\"type\":\"DatetimeTickFormatter\"},{\"attributes\":{},\"id\":\"1418\",\"type\":\"UnionRenderers\"},{\"attributes\":{\"line_color\":\"green\",\"line_width\":2,\"x\":{\"field\":\"x\"},\"y\":{\"field\":\"y\"}},\"id\":\"1480\",\"type\":\"Line\"},{\"attributes\":{\"line_alpha\":0.2,\"line_color\":\"blue\",\"line_width\":2,\"x\":{\"field\":\"x\"},\"y\":{\"field\":\"y\"}},\"id\":\"1476\",\"type\":\"Line\"},{\"attributes\":{\"line_alpha\":0.1,\"line_color\":\"blue\",\"line_width\":2,\"x\":{\"field\":\"x\"},\"y\":{\"field\":\"y\"}},\"id\":\"1475\",\"type\":\"Line\"},{\"attributes\":{\"data\":{\"x\":[1666396800000.0,1669075200000.0],\"y\":[0.5487713813977687,0.6404517546871482]},\"selected\":{\"id\":\"1535\"},\"selection_policy\":{\"id\":\"1534\"}},\"id\":\"1479\",\"type\":\"ColumnDataSource\"},{\"attributes\":{\"coordinates\":null,\"data_source\":{\"id\":\"1479\"},\"glyph\":{\"id\":\"1480\"},\"group\":null,\"hover_glyph\":null,\"muted_glyph\":{\"id\":\"1482\"},\"nonselection_glyph\":{\"id\":\"1481\"},\"view\":{\"id\":\"1484\"}},\"id\":\"1483\",\"type\":\"GlyphRenderer\"},{\"attributes\":{},\"id\":\"1387\",\"type\":\"Selection\"},{\"attributes\":{},\"id\":\"1531\",\"type\":\"Selection\"},{\"attributes\":{\"line_alpha\":0.2,\"line_color\":\"green\",\"line_width\":2,\"x\":{\"field\":\"x\"},\"y\":{\"field\":\"y\"}},\"id\":\"1482\",\"type\":\"Line\"},{\"attributes\":{\"line_alpha\":0.1,\"line_color\":\"green\",\"line_width\":2,\"x\":{\"field\":\"x\"},\"y\":{\"field\":\"y\"}},\"id\":\"1481\",\"type\":\"Line\"},{\"attributes\":{\"source\":{\"id\":\"1479\"}},\"id\":\"1484\",\"type\":\"CDSView\"},{\"attributes\":{\"fill_alpha\":{\"value\":0.2},\"fill_color\":{\"value\":\"#fcbba1\"},\"hatch_alpha\":{\"value\":0.2},\"hatch_color\":{\"value\":\"#fcbba1\"},\"line_alpha\":{\"value\":0.2},\"line_color\":{\"value\":\"#fcbba1\"},\"top\":{\"field\":\"top\"},\"width\":{\"value\":86400000},\"x\":{\"field\":\"x\"}},\"id\":\"1376\",\"type\":\"VBar\"},{\"attributes\":{\"fill_alpha\":{\"value\":0.5},\"fill_color\":{\"value\":\"#c7e9c0\"},\"hatch_alpha\":{\"value\":0.5},\"hatch_color\":{\"value\":\"#c7e9c0\"},\"line_alpha\":{\"value\":0.5},\"line_color\":{\"value\":\"#c7e9c0\"},\"top\":{\"field\":\"top\"},\"width\":{\"value\":86400000},\"x\":{\"field\":\"x\"}},\"id\":\"1435\",\"type\":\"VBar\"},{\"attributes\":{\"coordinates\":null,\"data_source\":{\"id\":\"1434\"},\"glyph\":{\"id\":\"1435\"},\"group\":null,\"hover_glyph\":null,\"muted_glyph\":{\"id\":\"1437\"},\"nonselection_glyph\":{\"id\":\"1436\"},\"view\":{\"id\":\"1439\"}},\"id\":\"1438\",\"type\":\"GlyphRenderer\"},{\"attributes\":{\"source\":{\"id\":\"1373\"}},\"id\":\"1378\",\"type\":\"CDSView\"},{\"attributes\":{},\"id\":\"1530\",\"type\":\"UnionRenderers\"},{\"attributes\":{},\"id\":\"1451\",\"type\":\"UnionRenderers\"},{\"attributes\":{\"coordinates\":null,\"group\":null,\"items\":[{\"id\":\"1402\"},{\"id\":\"1433\"},{\"id\":\"1466\"}]},\"id\":\"1401\",\"type\":\"Legend\"},{\"attributes\":{\"label\":{\"value\":\"sentiment score_after\"},\"renderers\":[{\"id\":\"1438\"}]},\"id\":\"1466\",\"type\":\"LegendItem\"},{\"attributes\":{\"bottom_units\":\"screen\",\"coordinates\":null,\"fill_alpha\":0.5,\"fill_color\":\"lightgrey\",\"group\":null,\"left_units\":\"screen\",\"level\":\"overlay\",\"line_alpha\":1.0,\"line_color\":\"black\",\"line_dash\":[4,4],\"line_width\":2,\"right_units\":\"screen\",\"syncable\":false,\"top_units\":\"screen\"},\"id\":\"1365\",\"type\":\"BoxAnnotation\"},{\"attributes\":{\"source\":{\"id\":\"1434\"}},\"id\":\"1439\",\"type\":\"CDSView\"},{\"attributes\":{\"fill_alpha\":{\"value\":0.2},\"fill_color\":{\"value\":\"#c7e9c0\"},\"hatch_alpha\":{\"value\":0.2},\"hatch_color\":{\"value\":\"#c7e9c0\"},\"line_alpha\":{\"value\":0.2},\"line_color\":{\"value\":\"#c7e9c0\"},\"top\":{\"field\":\"top\"},\"width\":{\"value\":86400000},\"x\":{\"field\":\"x\"}},\"id\":\"1437\",\"type\":\"VBar\"},{\"attributes\":{\"fill_alpha\":{\"value\":0.1},\"fill_color\":{\"value\":\"#c7e9c0\"},\"hatch_alpha\":{\"value\":0.1},\"hatch_color\":{\"value\":\"#c7e9c0\"},\"line_alpha\":{\"value\":0.1},\"line_color\":{\"value\":\"#c7e9c0\"},\"top\":{\"field\":\"top\"},\"width\":{\"value\":86400000},\"x\":{\"field\":\"x\"}},\"id\":\"1436\",\"type\":\"VBar\"},{\"attributes\":{},\"id\":\"1532\",\"type\":\"UnionRenderers\"},{\"attributes\":{},\"id\":\"1452\",\"type\":\"Selection\"},{\"attributes\":{},\"id\":\"1533\",\"type\":\"Selection\"},{\"attributes\":{\"axis\":{\"id\":\"1355\"},\"coordinates\":null,\"dimension\":1,\"group\":null,\"ticker\":null},\"id\":\"1358\",\"type\":\"Grid\"},{\"attributes\":{\"overlay\":{\"id\":\"1365\"}},\"id\":\"1361\",\"type\":\"BoxZoomTool\"},{\"attributes\":{},\"id\":\"1359\",\"type\":\"PanTool\"},{\"attributes\":{\"fill_alpha\":{\"value\":0.1},\"fill_color\":{\"value\":\"#fcbba1\"},\"hatch_alpha\":{\"value\":0.1},\"hatch_color\":{\"value\":\"#fcbba1\"},\"line_alpha\":{\"value\":0.1},\"line_color\":{\"value\":\"#fcbba1\"},\"top\":{\"field\":\"top\"},\"width\":{\"value\":86400000},\"x\":{\"field\":\"x\"}},\"id\":\"1375\",\"type\":\"VBar\"},{\"attributes\":{\"tools\":[{\"id\":\"1359\"},{\"id\":\"1360\"},{\"id\":\"1361\"},{\"id\":\"1362\"},{\"id\":\"1363\"},{\"id\":\"1364\"}]},\"id\":\"1366\",\"type\":\"Toolbar\"},{\"attributes\":{},\"id\":\"1360\",\"type\":\"WheelZoomTool\"},{\"attributes\":{},\"id\":\"1356\",\"type\":\"BasicTicker\"},{\"attributes\":{\"months\":[0,6]},\"id\":\"1399\",\"type\":\"MonthsTicker\"},{\"attributes\":{\"axis\":{\"id\":\"1351\"},\"coordinates\":null,\"grid_line_color\":null,\"group\":null,\"ticker\":null},\"id\":\"1354\",\"type\":\"Grid\"},{\"attributes\":{\"base\":60,\"mantissas\":[1,2,5,10,15,20,30],\"max_interval\":1800000.0,\"min_interval\":1000.0,\"num_minor_ticks\":0},\"id\":\"1390\",\"type\":\"AdaptiveTicker\"},{\"attributes\":{\"data\":{\"top\":{\"__ndarray__\":\"AAAAAAAAwDwl8c05GfXvP45WZ24CGOw/rsDAvb2g6z/rj/s3hxTjP/EY7iNYJOk/bGCvht284D8k9hzXSGXlP/LnO/hx9u8/ezwfNpIp3T9xVmlTYZDpP6HdBzIOie0/kR8+P+GH3z+rmK++LTHrP/kkv96lSNA/B1MuJFoDvD/tqklakInpP+pXsFpzkes/U9hxn1yD6j+qYDc2FXbcP0CEMqHsQOo/f9EYtI3f1D8/Ys1nt3zlP06id6z/qeU/XkiVmWAi5j9HHQ/eSJblP5ejVKayj+s/VWSd56x46z+fY6liAjHoPyUMXwWQIuY/gZSJAQ804T8=\",\"dtype\":\"float64\",\"order\":\"little\",\"shape\":[31]},\"x\":{\"__ndarray__\":\"AABAhTk0eEIAAADrizR4QgAAwFDeNHhCAACAtjA1eEIAAEAcgzV4QgAAAILVNXhCAADA5yc2eEIAAIBNejZ4QgAAQLPMNnhCAAAAGR83eEIAAMB+cTd4QgAAgOTDN3hCAABAShY4eEIAAACwaDh4QgAAwBW7OHhCAACAew05eEIAAEDhXzl4QgAAAEeyOXhCAADArAQ6eEIAAIASVzp4QgAAQHipOnhCAAAA3vs6eEIAAMBDTjt4QgAAgKmgO3hCAABAD/M7eEIAAAB1RTx4QgAAwNqXPHhCAACAQOo8eEIAAECmPD14QgAAAAyPPXhCAADAceE9eEI=\",\"dtype\":\"float64\",\"order\":\"little\",\"shape\":[31]}},\"selected\":{\"id\":\"1387\"},\"selection_policy\":{\"id\":\"1386\"}},\"id\":\"1373\",\"type\":\"ColumnDataSource\"},{\"attributes\":{\"months\":[0,2,4,6,8,10]},\"id\":\"1397\",\"type\":\"MonthsTicker\"},{\"attributes\":{},\"id\":\"1347\",\"type\":\"LinearScale\"},{\"attributes\":{\"days\":[1,15]},\"id\":\"1395\",\"type\":\"DaysTicker\"},{\"attributes\":{\"coordinates\":null,\"formatter\":{\"id\":\"1384\"},\"group\":null,\"major_label_policy\":{\"id\":\"1385\"},\"ticker\":{\"id\":\"1352\"}},\"id\":\"1351\",\"type\":\"DatetimeAxis\"},{\"attributes\":{\"fill_alpha\":{\"value\":0.5},\"fill_color\":{\"value\":\"#fcbba1\"},\"hatch_alpha\":{\"value\":0.5},\"hatch_color\":{\"value\":\"#fcbba1\"},\"line_alpha\":{\"value\":0.5},\"line_color\":{\"value\":\"#fcbba1\"},\"top\":{\"field\":\"top\"},\"width\":{\"value\":86400000},\"x\":{\"field\":\"x\"}},\"id\":\"1374\",\"type\":\"VBar\"},{\"attributes\":{\"base\":24,\"mantissas\":[1,2,4,6,8,12],\"max_interval\":43200000.0,\"min_interval\":3600000.0,\"num_minor_ticks\":0},\"id\":\"1391\",\"type\":\"AdaptiveTicker\"},{\"attributes\":{\"days\":[1,8,15,22]},\"id\":\"1394\",\"type\":\"DaysTicker\"},{\"attributes\":{},\"id\":\"1362\",\"type\":\"SaveTool\"},{\"attributes\":{},\"id\":\"1349\",\"type\":\"LinearScale\"},{\"attributes\":{\"mantissas\":[1,2,5],\"max_interval\":500.0,\"num_minor_ticks\":0},\"id\":\"1389\",\"type\":\"AdaptiveTicker\"},{\"attributes\":{\"days\":[1,2,3,4,5,6,7,8,9,10,11,12,13,14,15,16,17,18,19,20,21,22,23,24,25,26,27,28,29,30,31]},\"id\":\"1392\",\"type\":\"DaysTicker\"},{\"attributes\":{\"months\":[0,4,8]},\"id\":\"1398\",\"type\":\"MonthsTicker\"},{\"attributes\":{},\"id\":\"1400\",\"type\":\"YearsTicker\"},{\"attributes\":{\"months\":[0,1,2,3,4,5,6,7,8,9,10,11]},\"id\":\"1396\",\"type\":\"MonthsTicker\"},{\"attributes\":{},\"id\":\"1364\",\"type\":\"HelpTool\"},{\"attributes\":{\"data\":{\"top\":{\"__ndarray__\":\"8u10USl57T9RRVt70CLrP3HhMQrYfec/ZyOwdSty5j+HlpL5Mc3iPw==\",\"dtype\":\"float64\",\"order\":\"little\",\"shape\":[5]},\"x\":{\"__ndarray__\":\"AACA1zM+eEIAAEA9hj54QgAAAKPYPnhCAADACCs/eEIAAIBufT94Qg==\",\"dtype\":\"float64\",\"order\":\"little\",\"shape\":[5]}},\"selected\":{\"id\":\"1419\"},\"selection_policy\":{\"id\":\"1418\"}},\"id\":\"1403\",\"type\":\"ColumnDataSource\"},{\"attributes\":{},\"id\":\"1363\",\"type\":\"ResetTool\"},{\"attributes\":{\"coordinates\":null,\"group\":null,\"text\":\"Sentiment Trend\"},\"id\":\"1341\",\"type\":\"Title\"},{\"attributes\":{},\"id\":\"1343\",\"type\":\"DataRange1d\"},{\"attributes\":{\"coordinates\":null,\"formatter\":{\"id\":\"1381\"},\"group\":null,\"major_label_policy\":{\"id\":\"1382\"},\"ticker\":{\"id\":\"1356\"}},\"id\":\"1355\",\"type\":\"LinearAxis\"},{\"attributes\":{\"days\":[1,4,7,10,13,16,19,22,25,28]},\"id\":\"1393\",\"type\":\"DaysTicker\"},{\"attributes\":{\"fill_alpha\":{\"value\":0.5},\"fill_color\":{\"value\":\"#c6dbef\"},\"hatch_alpha\":{\"value\":0.5},\"hatch_color\":{\"value\":\"#c6dbef\"},\"line_alpha\":{\"value\":0.5},\"line_color\":{\"value\":\"#c6dbef\"},\"top\":{\"field\":\"top\"},\"width\":{\"value\":86400000},\"x\":{\"field\":\"x\"}},\"id\":\"1404\",\"type\":\"VBar\"},{\"attributes\":{\"start\":0},\"id\":\"1345\",\"type\":\"DataRange1d\"},{\"attributes\":{\"num_minor_ticks\":5,\"tickers\":[{\"id\":\"1389\"},{\"id\":\"1390\"},{\"id\":\"1391\"},{\"id\":\"1392\"},{\"id\":\"1393\"},{\"id\":\"1394\"},{\"id\":\"1395\"},{\"id\":\"1396\"},{\"id\":\"1397\"},{\"id\":\"1398\"},{\"id\":\"1399\"},{\"id\":\"1400\"}]},\"id\":\"1352\",\"type\":\"DatetimeTicker\"}],\"root_ids\":[\"1340\"]},\"title\":\"Bokeh Application\",\"version\":\"2.4.2\"}};\n  const render_items = [{\"docid\":\"299fa0a7-de74-4ca4-8543-7ce3db415ed7\",\"root_ids\":[\"1340\"],\"roots\":{\"1340\":\"029ad797-cd8b-4511-bc5c-0c577154c1e3\"}}];\n  root.Bokeh.embed.embed_items_notebook(docs_json, render_items);\n\n  }\n  if (root.Bokeh !== undefined) {\n    embed_document(root);\n  } else {\n    let attempts = 0;\n    const timer = setInterval(function(root) {\n      if (root.Bokeh !== undefined) {\n        clearInterval(timer);\n        embed_document(root);\n      } else {\n        attempts++;\n        if (attempts > 100) {\n          clearInterval(timer);\n          console.log(\"Bokeh: ERROR: Unable to run BokehJS code because BokehJS library is missing\");\n        }\n      }\n    }, 10, root)\n  }\n})(window);",
      "application/vnd.bokehjs_exec.v0+json": ""
     },
     "metadata": {
      "application/vnd.bokehjs_exec.v0+json": {
       "id": "1340"
      }
     },
     "output_type": "display_data"
    }
   ],
   "source": [
    "\n",
    "\n",
    "p = figure(x_axis_type= 'datetime', width=1000, height=600, title=\"Sentiment Trend\")\n",
    "\n",
    "p.vbar(x=df_senti_day1.index, top=df_senti_day1.sentiment_score1, color='#fcbba1', legend_label=f'sentiment score_before', alpha=0.5, width=24*60*60*1000)\n",
    "p.vbar(x=df_senti_day2.index, top=df_senti_day2.sentiment_score2, color='#c6dbef', legend_label=f'sentiment score_during', alpha=0.5, width=24*60*60*1000)\n",
    "p.vbar(x=df_senti_day3.index, top=df_senti_day3.sentiment_score3, color='#c7e9c0', legend_label=f'sentiment score_after', alpha=0.5, width=24*60*60*1000)\n",
    "p.line(x=[dt(2022, 9, 16), dt(2022, 10, 16)], y=[0.6542100433247727, 0.680978490763814], color=\"red\", line_width=2)\n",
    "p.line(x=[dt(2022, 10, 17), dt(2022, 10, 21)], y=[0.9211367591118649, 0.5957179609060277], color=\"blue\", line_width=2)\n",
    "p.line(x=[dt(2022, 10, 22), dt(2022, 11, 22)], y=[0.5487713813977687, 0.6404517546871482], color=\"green\", line_width=2)\n",
    "\n",
    "p.xgrid.grid_line_color = None\n",
    "p.y_range.start = 0\n",
    "\n",
    "show(p)"
   ]
  },
  {
   "cell_type": "code",
   "execution_count": 66,
   "metadata": {},
   "outputs": [
    {
     "data": {
      "text/plain": [
       "'/Users/phoebegao/Desktop/2023_winter/censorship/project/data/senti2.png'"
      ]
     },
     "execution_count": 66,
     "metadata": {},
     "output_type": "execute_result"
    }
   ],
   "source": [
    "from bokeh.io import export_png\n",
    "\n",
    "export_png(p, filename=\"senti2.png\")"
   ]
  }
 ],
 "metadata": {
  "kernelspec": {
   "display_name": "Python 3 (ipykernel)",
   "language": "python",
   "name": "python3"
  },
  "language_info": {
   "codemirror_mode": {
    "name": "ipython",
    "version": 3
   },
   "file_extension": ".py",
   "mimetype": "text/x-python",
   "name": "python",
   "nbconvert_exporter": "python",
   "pygments_lexer": "ipython3",
   "version": "3.9.12"
  }
 },
 "nbformat": 4,
 "nbformat_minor": 4
}
