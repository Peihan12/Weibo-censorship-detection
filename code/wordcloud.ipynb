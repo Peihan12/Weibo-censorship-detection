{
 "cells": [
  {
   "cell_type": "code",
   "execution_count": 28,
   "id": "56c5b3e3",
   "metadata": {},
   "outputs": [],
   "source": [
    "# pip install jieba\n",
    "# pip install pyecharts\n",
    "import jieba\n",
    "from wordcloud import WordCloud\n",
    "import re\n",
    "import pandas as pd\n"
   ]
  },
  {
   "cell_type": "code",
   "execution_count": 29,
   "id": "0ad8abea",
   "metadata": {},
   "outputs": [
    {
     "data": {
      "text/plain": [
       "'/Users/hazelchui/Desktop/UChicago/Winter 2023/CMSC 33260 Internet Censorship'"
      ]
     },
     "execution_count": 29,
     "metadata": {},
     "output_type": "execute_result"
    }
   ],
   "source": [
    "pwd"
   ]
  },
  {
   "cell_type": "code",
   "execution_count": 32,
   "id": "0497b748",
   "metadata": {},
   "outputs": [],
   "source": [
    "## Load data \n",
    "df_before = pd.read_csv('before.csv')\n",
    "df_during = pd.read_csv('during.csv')\n",
    "df_after = pd.read_csv('after.csv')"
   ]
  },
  {
   "cell_type": "code",
   "execution_count": 69,
   "id": "1ad6496a",
   "metadata": {},
   "outputs": [
    {
     "data": {
      "image/png": "[encoded data removed]",
      "text/plain": [
       "<Figure size 432x288 with 1 Axes>"
      ]
     },
     "metadata": {
      "needs_background": "light"
     },
     "output_type": "display_data"
    }
   ],
   "source": [
    "import matplotlib.pyplot as plt\n",
    "data = {'Before':len(df_before), 'During':len(df_during), \n",
    "        'After':len(df_after)}\n",
    "period = list(data.keys())\n",
    "values = list(data.values())\n",
    "   \n",
    "# creating the bar plot\n",
    "plt.bar(period, values, color ='maroon',\n",
    "        width = 0.4)\n",
    "\n",
    "# Add annotation to bars \n",
    "for i, v in enumerate(values):\n",
    "    plt.text(i, v+50, str(v))\n",
    "\n",
    "plt.xlabel(\"Period\")\n",
    "plt.ylabel(\"No. of posts\")\n",
    "plt.title(\"No. of Weibo posts across different periods\")\n",
    "plt.savefig('bar.png')\n",
    "\n",
    "plt.show()\n"
   ]
  },
  {
   "cell_type": "code",
   "execution_count": 22,
   "id": "e0585e39",
   "metadata": {},
   "outputs": [],
   "source": [
    "# Stopwords\n",
    "with open('cn_stopwords.txt') as f:\n",
    "    stopword = f.readlines()\n",
    "    stopwords = [l.strip('\\n\\r') for l in stopword]    "
   ]
  },
  {
   "cell_type": "code",
   "execution_count": 23,
   "id": "80d11699",
   "metadata": {},
   "outputs": [],
   "source": [
    "#去掉表情和一些不必要的符号\n",
    "def format_content(content):\n",
    "    content = content.replace(u'\\xa0', u' ')\n",
    "    content = re.sub(r'\\[.*?\\]','',content)\n",
    "    content = content.replace('\\n', ' ')\n",
    "    return content"
   ]
  },
  {
   "cell_type": "code",
   "execution_count": 24,
   "id": "981872a8",
   "metadata": {},
   "outputs": [],
   "source": [
    "#画出词云\n",
    "def create_wordcloud(content,image='weibo.jpg',max_words=5000,max_font_size=50):\n",
    "    words = jieba.lcut(content)\n",
    "    newtxt = ''.join(words)\n",
    "    word_cloud = WordCloud(stopwords = stopwords, font_path = \"SourceHanSerifK-Light.otf\", \n",
    "                           max_words=max_words, background_color='white', \n",
    "                           max_font_size=max_font_size\n",
    "                          ).generate(newtxt)\n",
    "    word_cloud.to_file(image)"
   ]
  },
  {
   "cell_type": "code",
   "execution_count": 25,
   "id": "73b3df30",
   "metadata": {},
   "outputs": [],
   "source": [
    "# Before\n",
    "## pd series to string\n",
    "post = df_before['微博正文'].to_string(index=False)\n",
    "\n",
    "# Clean data\n",
    "post = format_content(post)\n",
    "\n",
    "# Generate\n",
    "create_wordcloud(post, image='weibo_before.jpg',max_words=5000,max_font_size=50)"
   ]
  },
  {
   "cell_type": "code",
   "execution_count": 26,
   "id": "9ba47652",
   "metadata": {},
   "outputs": [],
   "source": [
    "# During\n",
    "## pd series to string\n",
    "post = df_during['微博正文'].to_string(index=False)\n",
    "\n",
    "# Clean data\n",
    "post = format_content(post)\n",
    "\n",
    "# Generate\n",
    "create_wordcloud(post, image='weibo_during.jpg',max_words=5000,max_font_size=50)"
   ]
  },
  {
   "cell_type": "code",
   "execution_count": 27,
   "id": "a9a76399",
   "metadata": {},
   "outputs": [],
   "source": [
    "# After\n",
    "## pd series to string\n",
    "post = df_after['微博正文'].to_string(index=False)\n",
    "\n",
    "# Clean data\n",
    "post = format_content(post)\n",
    "\n",
    "# Generate\n",
    "create_wordcloud(post, image='weibo_after.jpg',max_words=5000,max_font_size=50)"
   ]
  },
  {
   "cell_type": "code",
   "execution_count": null,
   "id": "1d82ec03",
   "metadata": {},
   "outputs": [],
   "source": []
  },
  {
   "cell_type": "code",
   "execution_count": null,
   "id": "2d43568f",
   "metadata": {},
   "outputs": [],
   "source": []
  },
  {
   "cell_type": "code",
   "execution_count": null,
   "id": "a6b17b3d",
   "metadata": {},
   "outputs": [],
   "source": []
  }
 ],
 "metadata": {
  "kernelspec": {
   "display_name": "Python 3 (ipykernel)",
   "language": "python",
   "name": "python3"
  },
  "language_info": {
   "codemirror_mode": {
    "name": "ipython",
    "version": 3
   },
   "file_extension": ".py",
   "mimetype": "text/x-python",
   "name": "python",
   "nbconvert_exporter": "python",
   "pygments_lexer": "ipython3",
   "version": "3.9.7"
  }
 },
 "nbformat": 4,
 "nbformat_minor": 5
}
